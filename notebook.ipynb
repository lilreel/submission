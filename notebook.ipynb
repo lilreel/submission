{
 "cells": [
  {
   "cell_type": "markdown",
   "metadata": {},
   "source": [
    "# Submission - Bike Sharing"
   ]
  },
  {
   "cell_type": "markdown",
   "metadata": {},
   "source": [
    "Name : Chalil Al Vareel <br>\n",
    "From : Universitas Sumatera Utara<br>\n",
    "Dicoding ID : cavareel<br>\n"
   ]
  },
  {
   "cell_type": "markdown",
   "metadata": {},
   "source": [
    "## Business Question"
   ]
  },
  {
   "cell_type": "markdown",
   "metadata": {},
   "source": [
    "1. What are the conditions when bicycles are used on weekday, working days, and holiday?\n",
    "2. Does the weather play a role in the number of bicycle users?\n",
    "3. Does season impact the number of bike users? If so, what season with the most bicycles rental?"
   ]
  },
  {
   "cell_type": "markdown",
   "metadata": {},
   "source": [
    "Based on these questions, we're going to use only one dataset _(day.csv)_ because it's more relevant in our case"
   ]
  },
  {
   "cell_type": "markdown",
   "metadata": {},
   "source": [
    "## Data Wrangling"
   ]
  },
  {
   "cell_type": "markdown",
   "metadata": {},
   "source": [
    "### Import Data"
   ]
  },
  {
   "cell_type": "code",
   "execution_count": null,
   "metadata": {},
   "outputs": [],
   "source": [
    "import numpy as np\n",
    "import pandas as pd\n",
    "import matplotlib.pyplot as plt\n",
    "import seaborn as sns\n"
   ]
  },
  {
   "cell_type": "code",
   "execution_count": null,
   "metadata": {},
   "outputs": [],
   "source": [
    "df = pd.read_csv(\"data/day.csv\")\n",
    "df.head()"
   ]
  },
  {
   "cell_type": "markdown",
   "metadata": {},
   "source": [
    "## Assessing Data"
   ]
  },
  {
   "cell_type": "markdown",
   "metadata": {},
   "source": [
    "### Checking table data"
   ]
  },
  {
   "cell_type": "code",
   "execution_count": null,
   "metadata": {},
   "outputs": [],
   "source": [
    "df.info()"
   ]
  },
  {
   "cell_type": "code",
   "execution_count": null,
   "metadata": {},
   "outputs": [],
   "source": [
    "df.isna().sum()"
   ]
  },
  {
   "cell_type": "code",
   "execution_count": null,
   "metadata": {},
   "outputs": [],
   "source": [
    "print(\"Duplicate: \", df.duplicated().sum())\n"
   ]
  },
  {
   "cell_type": "code",
   "execution_count": null,
   "metadata": {},
   "outputs": [],
   "source": [
    "df.describe()"
   ]
  },
  {
   "cell_type": "markdown",
   "metadata": {},
   "source": [
    "### Deleting unused column"
   ]
  },
  {
   "cell_type": "code",
   "execution_count": null,
   "metadata": {},
   "outputs": [],
   "source": [
    "drop_col = ['instant', 'windspeed']\n",
    "\n",
    "for i in df.columns:\n",
    "  if i in drop_col:\n",
    "    df.drop(labels=i, axis=1, inplace=True)"
   ]
  },
  {
   "cell_type": "code",
   "execution_count": null,
   "metadata": {},
   "outputs": [],
   "source": [
    "df.head()"
   ]
  },
  {
   "cell_type": "markdown",
   "metadata": {},
   "source": [
    "### Changing value detail and data type"
   ]
  },
  {
   "cell_type": "code",
   "execution_count": null,
   "metadata": {},
   "outputs": [],
   "source": [
    "# Changing column name\n",
    "df.rename(columns={\n",
    "    'dteday': 'date',\n",
    "    'yr': 'year',\n",
    "    'mnth': 'month',\n",
    "    'weathersit': 'weather_condition',\n",
    "    'cnt': 'count',\n",
    "    'hum': 'humidity'\n",
    "}, inplace=True)\n",
    "\n",
    "df.head()"
   ]
  },
  {
   "cell_type": "code",
   "execution_count": null,
   "metadata": {},
   "outputs": [],
   "source": [
    "# Changing value detail for column weekday, month, season, and weather condition\n",
    "df['weekday'] = df['weekday'].map({\n",
    "    0: 'Sun', 1: 'Mon', 2: 'Tue', 3: 'Wed', 4: 'Thu', 5: 'Fri', 6: 'Sat'\n",
    "})\n",
    "\n",
    "df['month'] = df['month'].map({\n",
    "    1: 'Jan', 2: 'Feb', 3: 'Mar', 4: 'Apr', 5: 'May', 6: 'Jun',\n",
    "    7: 'Jul', 8: 'Aug', 9: 'Sep', 10: 'Oct', 11: 'Nov', 12: 'Dec'\n",
    "})\n",
    "\n",
    "df['season'] = df['season'].map({\n",
    "    1: 'Spring', 2: 'Summer', 3: 'Fall', 4: 'Winter'\n",
    "})\n",
    "\n",
    "df['weather_condition'] = df['weather_condition'].map({\n",
    "    1: 'Clear/Partly Cloudy',\n",
    "    2: 'Misty/Cloudy',\n",
    "    3: 'Light Snow/Light Rain',\n",
    "    4: 'Severe Weather'\n",
    "})"
   ]
  },
  {
   "cell_type": "code",
   "execution_count": null,
   "metadata": {},
   "outputs": [],
   "source": [
    "# Change data type into datetime\n",
    "df['date'] = pd.to_datetime(df.date)\n",
    "\n",
    "# Change data type into categorical\n",
    "df['season'] = df.season.astype('category')\n",
    "df['year'] = df.year.astype('category')\n",
    "df['month'] = df.month.astype('category')\n",
    "df['holiday'] = df.holiday.astype('category')\n",
    "df['weekday'] = df.weekday.astype('category')\n",
    "df['workingday'] = df.workingday.astype('category')\n",
    "df['weather_condition'] = df.weather_condition.astype('category')"
   ]
  },
  {
   "cell_type": "code",
   "execution_count": null,
   "metadata": {},
   "outputs": [],
   "source": [
    "df.info()"
   ]
  },
  {
   "cell_type": "code",
   "execution_count": null,
   "metadata": {},
   "outputs": [],
   "source": [
    "df.head()"
   ]
  },
  {
   "cell_type": "markdown",
   "metadata": {},
   "source": [
    "## EDA"
   ]
  },
  {
   "cell_type": "markdown",
   "metadata": {},
   "source": [
    "### Data Exploration"
   ]
  },
  {
   "cell_type": "markdown",
   "metadata": {},
   "source": [
    "1. Grouping bike users (both casual and registered) based on weekday use"
   ]
  },
  {
   "cell_type": "code",
   "execution_count": null,
   "metadata": {},
   "outputs": [],
   "source": [
    "df.groupby(by='weekday').agg({\n",
    "    'count': ['max', 'min', 'mean']\n",
    "})"
   ]
  },
  {
   "cell_type": "markdown",
   "metadata": {},
   "source": [
    "Based on result above, The order of the average number of tenants from largest to smallest is: Friday (Fri), Thursday (Thu), Saturday (Sat), Wednesday (Wed), Tuesday (Tue), Monday (Mon) and Sunday (Sun)."
   ]
  },
  {
   "cell_type": "markdown",
   "metadata": {},
   "source": [
    "2. Grouping bike users (both casual and registered) based on working use"
   ]
  },
  {
   "cell_type": "code",
   "execution_count": null,
   "metadata": {},
   "outputs": [],
   "source": [
    "df.groupby(by='workingday').agg({\n",
    "    'count': ['max', 'min', 'mean', 'sum']\n",
    "})"
   ]
  },
  {
   "cell_type": "markdown",
   "metadata": {},
   "source": [
    "Based on the results above, people use bike more in working day rather than non-working day even thought the result is not slightly different"
   ]
  },
  {
   "cell_type": "markdown",
   "metadata": {},
   "source": [
    "3. Grouping bike users (both casual and registered) based on holiday use"
   ]
  },
  {
   "cell_type": "code",
   "execution_count": null,
   "metadata": {},
   "outputs": [],
   "source": [
    "df.groupby(by='holiday').agg({\n",
    "    'count': ['max', 'min', 'mean', 'sum']\n",
    "})"
   ]
  },
  {
   "cell_type": "markdown",
   "metadata": {},
   "source": [
    "Based on the result above, people tend to rent more in non-holiday rather than holiday"
   ]
  },
  {
   "cell_type": "markdown",
   "metadata": {},
   "source": [
    "4. Grouping bike users (both casual and registered) based on month"
   ]
  },
  {
   "cell_type": "code",
   "execution_count": null,
   "metadata": {},
   "outputs": [],
   "source": [
    "df.groupby(by='month').agg({\n",
    "    'count': ['max', 'min', 'mean', 'sum']\n",
    "})\n",
    "\n",
    "# .sort_values(by='month', ascending=True)"
   ]
  },
  {
   "cell_type": "markdown",
   "metadata": {},
   "source": [
    "Based on the results above, the month with the largest average and the largest sum is June. While the smallest average and smallest sum is January."
   ]
  },
  {
   "cell_type": "markdown",
   "metadata": {},
   "source": [
    "5. Grouping bike users (both casual and registered) based on weather"
   ]
  },
  {
   "cell_type": "code",
   "execution_count": null,
   "metadata": {},
   "outputs": [],
   "source": [
    "df.groupby(by='weather_condition').agg({\n",
    "    'count': ['max', 'min', 'mean', 'sum']\n",
    "})"
   ]
  },
  {
   "cell_type": "markdown",
   "metadata": {},
   "source": [
    "Based on the results above, people tend to rent when the weather is sunny or cloudy. Very few when it snows and none when the weather is severe."
   ]
  },
  {
   "cell_type": "markdown",
   "metadata": {},
   "source": [
    "6. Analyze number of temp, atemp, and humidity based on season"
   ]
  },
  {
   "cell_type": "code",
   "execution_count": null,
   "metadata": {},
   "outputs": [],
   "source": [
    "df.groupby(by='season').agg({\n",
    "    'temp': ['max', 'min', 'mean'],\n",
    "    'atemp': ['max', 'min', 'mean'],\n",
    "    'humidity': ['max', 'min', 'mean']\n",
    "    })"
   ]
  },
  {
   "cell_type": "markdown",
   "metadata": {},
   "source": [
    "Based on the results of the above, the following statements can be concluded:\n",
    "\n",
    "- The highest average humidity occurs in the winter hen followed by fall, summer, and spring.\n",
    "- The highest average temperature and atemp occurs in the fall then followed by summer, winter, and spring."
   ]
  },
  {
   "cell_type": "markdown",
   "metadata": {},
   "source": [
    "7. Grouping bicycle users (both casual and registered) based on season"
   ]
  },
  {
   "cell_type": "code",
   "execution_count": null,
   "metadata": {},
   "outputs": [],
   "source": [
    "df.groupby(by='season').agg({\n",
    "    'count': ['max', 'min', 'mean', 'sum']\n",
    "})"
   ]
  },
  {
   "cell_type": "markdown",
   "metadata": {},
   "source": [
    "Based on the result above, The order of the average number of tenants from largest to smallest is: Fall, Summer, Winter, and Spring"
   ]
  },
  {
   "cell_type": "markdown",
   "metadata": {},
   "source": [
    "8. Looking for correlation between casual and registered user"
   ]
  },
  {
   "cell_type": "code",
   "execution_count": null,
   "metadata": {},
   "outputs": [],
   "source": [
    "fig, ax = plt.subplots(figsize=(10, 5))\n",
    "correlation_matrix = df.corr(numeric_only=True)\n",
    "mask = np.triu(np.ones_like(correlation_matrix, dtype=bool))\n",
    "\n",
    "sns.heatmap(\n",
    "    correlation_matrix,\n",
    "    annot=True,\n",
    "    mask=mask,\n",
    "    cmap=\"viridis\",\n",
    "    center=0,\n",
    "    fmt=\".2f\")\n",
    "plt.title(\"Correlation Heatmap\")\n",
    "plt.show()"
   ]
  },
  {
   "cell_type": "markdown",
   "metadata": {},
   "source": [
    "Based on the results of the above, the following statements can be concluded:\n",
    "\n",
    "- casual is moderately correlated with temp and atemp (0.54), and slightly negative with hum (-0.08).\n",
    "- registered has the same pattern as casual, and is moderately correlated with casual (0.40).\n",
    "- atemp and temp are highly correlated (0.99).\n",
    "- humidity has a weak correlation with temp and atemp (0.13 and 0.14).\n",
    "- count is strongly correlated with temp, atemp, casual, and registered (0.63, 0.63, 0.67, and 0.95), and slightly negative with hum (-0.10)."
   ]
  },
  {
   "cell_type": "markdown",
   "metadata": {},
   "source": [
    "## Explanatory Analysis & Conclusion"
   ]
  },
  {
   "cell_type": "markdown",
   "metadata": {},
   "source": [
    "### 1. What are the conditions when bicycles are used on weekday, working days, and holiday?"
   ]
  },
  {
   "cell_type": "code",
   "execution_count": null,
   "metadata": {},
   "outputs": [],
   "source": [
    "fig, axes = plt.subplots(nrows=3, ncols=1, figsize=(30, 20))\n",
    "\n",
    "# Weekday\n",
    "sns.barplot(\n",
    "    data=df,\n",
    "    x='weekday',\n",
    "    y='count',\n",
    "    ax=axes[0])\n",
    "axes[0].set_title('Bike Users in Weekday')\n",
    "axes[0].set_xlabel('Days')\n",
    "axes[0].set_ylabel('Bike Users')\n",
    "\n",
    "# Workingday\n",
    "sns.barplot(\n",
    "    data=df,\n",
    "    x='workingday',\n",
    "    y='count',\n",
    "    ax=axes[1])\n",
    "axes[1].set_title('Bike Users in Workingday')\n",
    "axes[1].set_xlabel('Workingday')\n",
    "axes[1].set_ylabel('Bike Users')\n",
    "\n",
    "# Holiday\n",
    "sns.barplot(\n",
    "    data=df,\n",
    "    x='holiday',\n",
    "    y='count',\n",
    "    ax=axes[2])\n",
    "axes[2].set_title('Bike Users in Holiday')\n",
    "axes[2].set_xlabel('Holiday')\n",
    "axes[2].set_ylabel('Bike Users')\n",
    "\n",
    "plt.tight_layout()\n",
    "plt.show()"
   ]
  },
  {
   "cell_type": "markdown",
   "metadata": {},
   "source": [
    "Based on visualization above, we can conclude that:\n",
    "- Friday is the day with the most bike renters, and Sunday is the day with the least number of bike renters.\n",
    "- The number of bicycle renters is more on weekdays (i.e. Monday - Friday) than weekends (i.e. Saturday and Sunday). 0 indicates weekend and 1 indicates weekday.\n",
    "- The number of bicycle renters is much higher on non-holidays than on holidays."
   ]
  },
  {
   "cell_type": "markdown",
   "metadata": {},
   "source": [
    "### 2. Does the weather play a role in the number of bicycle users?"
   ]
  },
  {
   "cell_type": "code",
   "execution_count": null,
   "metadata": {},
   "outputs": [],
   "source": [
    "plt.figure(figsize=(12, 6))\n",
    "sns.barplot(\n",
    "    data=df,\n",
    "    x='weather_condition',\n",
    "    y='count'\n",
    "    )\n",
    "\n",
    "plt.title('Bike Users based on Weather Condition')\n",
    "plt.xlabel('Weather Condition')\n",
    "plt.ylabel('Bike Users')\n",
    "plt.show()"
   ]
  },
  {
   "cell_type": "markdown",
   "metadata": {},
   "source": [
    "Based on visualization above, we can see that weather play a hure roles in bike sharing. People tend to rent the bike in `Clear/Partly Cloud` and `Misty/Cloudy` rather than in `Light Snow/Light Rain`. and there is no tenants in Severe Weather"
   ]
  },
  {
   "cell_type": "markdown",
   "metadata": {},
   "source": [
    "### 3. Does season impact the number of bike users? If so, what season with the most bicycles rental?"
   ]
  },
  {
   "cell_type": "code",
   "execution_count": null,
   "metadata": {},
   "outputs": [],
   "source": [
    "plt.figure(figsize=(10, 6))\n",
    "\n",
    "seasonal_usage = df.groupby(\n",
    "    'season')[['registered', 'casual']].sum().reset_index()\n",
    "\n",
    "plt.bar(\n",
    "    seasonal_usage['season'],\n",
    "    seasonal_usage['registered'],\n",
    "    label='Registered',\n",
    "    color='tab:green'\n",
    ")\n",
    "\n",
    "plt.bar(\n",
    "    seasonal_usage['season'],\n",
    "    seasonal_usage['casual'],\n",
    "    label='Casual',\n",
    "    color='tab:orange'\n",
    ")\n",
    "\n",
    "plt.title('Bike Users based on Season')\n",
    "plt.legend()\n",
    "plt.show()"
   ]
  },
  {
   "cell_type": "markdown",
   "metadata": {},
   "source": [
    "Based on visualization above, we can see that either registered or casual users love to rent bike in Fall, followed by summer, winter, and sping. In conclusion, season play a big role of bike rental"
   ]
  },
  {
   "cell_type": "markdown",
   "metadata": {},
   "source": [
    "### Conclusion"
   ]
  },
  {
   "cell_type": "markdown",
   "metadata": {},
   "source": [
    "- Q1<br>\n",
    "The conditions shown in this visualization are divided into three parts. For the number of cyclists by workingday, workingday outperforms non-workingday although the results are not very significant, but there is still a clear difference even though both are above 4000 users. Moving on to holidays, non-holiday wins with a significant difference from holiday. It is possible that users prefer to rent bicycles on weekdays. Finally based on weekday, based on the data above, it is Friday (Fri) that ranks first with a mean of 4690.288462 and the last place is occupied by Sunday (Sun): 4228.828571."
   ]
  },
  {
   "cell_type": "markdown",
   "metadata": {},
   "source": [
    "- Q2<br>\n",
    "There is a clear relationship between the two. Bicycle renters like it best when the weather is Sunny/Slightly Cloudy. The second position is when the weather is Foggy/Cloudy. Lastly, users disliked when it was Slightly Snowy/Rainy. And `None` for Severe weather because it is impossible to cycle during such weather conditions."
   ]
  },
  {
   "cell_type": "markdown",
   "metadata": {},
   "source": [
    "- Q3<br>\n",
    "The last question's results are quite surprising that Spring is the least Season with bike user instead of Winter. This can be due to many factors such as weather conditions, air temperature, working days, holidays, and others. The first place was taken by Fall, which achieved more than 800,000 bike rentals."
   ]
  }
 ],
 "metadata": {
  "kernelspec": {
   "display_name": "Python 3",
   "language": "python",
   "name": "python3"
  },
  "language_info": {
   "codemirror_mode": {
    "name": "ipython",
    "version": 3
   },
   "file_extension": ".py",
   "mimetype": "text/x-python",
   "name": "python",
   "nbconvert_exporter": "python",
   "pygments_lexer": "ipython3",
   "version": "3.10.7"
  },
  "orig_nbformat": 4
 },
 "nbformat": 4,
 "nbformat_minor": 2
}
